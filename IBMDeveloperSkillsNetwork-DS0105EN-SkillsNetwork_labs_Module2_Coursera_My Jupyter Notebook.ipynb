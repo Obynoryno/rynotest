{
  "metadata": {
    "kernelspec": {
      "name": "python",
      "display_name": "Pyolite",
      "language": "python"
    },
    "language_info": {
      "codemirror_mode": {
        "name": "python",
        "version": 3
      },
      "file_extension": ".py",
      "mimetype": "text/x-python",
      "name": "python",
      "nbconvert_exporter": "python",
      "pygments_lexer": "ipython3",
      "version": "3.8"
    }
  },
  "nbformat_minor": 4,
  "nbformat": 4,
  "cells": [
    {
      "cell_type": "markdown",
      "source": "<center>\n    <img src=\"https://cf-courses-data.s3.us.cloud-object-storage.appdomain.cloud/IBMDeveloperSkillsNetwork-DS0105EN-SkillsNetwork/labs/Module2/images/SN_web_lightmode.png\" width=\"300\" alt=\"cognitiveclass.ai logo\"  />\n</center>\n",
      "metadata": {}
    },
    {
      "cell_type": "markdown",
      "source": "#### Add your code below following the instructions given in the course\n",
      "metadata": {}
    },
    {
      "cell_type": "markdown",
      "source": "## Header",
      "metadata": {}
    },
    {
      "cell_type": "markdown",
      "source": "IWEGBUNA OBINNA NNAMDI",
      "metadata": {}
    },
    {
      "cell_type": "markdown",
      "source": "Data Scientist",
      "metadata": {}
    },
    {
      "cell_type": "markdown",
      "source": "\"I am interested in data science because i want to gain employment\"",
      "metadata": {}
    },
    {
      "cell_type": "markdown",
      "source": "## To Find the sum of two numbers",
      "metadata": {}
    },
    {
      "cell_type": "code",
      "source": "2+2",
      "metadata": {
        "trusted": true
      },
      "execution_count": 6,
      "outputs": [
        {
          "execution_count": 6,
          "output_type": "execute_result",
          "data": {
            "text/plain": "4"
          },
          "metadata": {}
        }
      ]
    },
    {
      "cell_type": "markdown",
      "source": "Horizontal Rule\nThree or More.....\n---\nHyphens\n***\nAsterisks\n___\nUnderscores\n\nImages\nInline-style:\n![alt text] (https://github.com/adam-p/markdown-here/raw/master/src/common/images/icon48.png \"Logo Title Text 1\")\n\nReference-style\n![alt text][logo]\n[logo]: https://github.com/adam-p/markdown-here/raw/master/src/common/images/icon48.png \"Logo Title Text 2\"\n\nBlockquotes\n> Blockquotes qre very handy in email to emulate reply text.\n> This line is part of the same quotes\n\nQoute break\n\n>This is a very long line that will still be quoted properly when it wraps. oh boy lets keep writing  to make sure this is long enough to actually wrap for everyone.oh, you can *put* **Markdown** into a blockquote.",
      "metadata": {}
    }
  ]
}